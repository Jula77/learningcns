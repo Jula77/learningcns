{
 "cells": [
  {
   "cell_type": "code",
   "execution_count": 1,
   "metadata": {
    "collapsed": false
   },
   "outputs": [
    {
     "name": "stdout",
     "output_type": "stream",
     "text": [
      "11\n",
      "осень\n"
     ]
    }
   ],
   "source": [
    "season = int (input())\n",
    "if season==1 or season==2 or season==12:\n",
    "    print('зима')\n",
    "elif season==3 or season==4 or season==5:\n",
    "    print('весна')\n",
    "elif season==6 or season==7 or season==8:\n",
    "    print('лето')\n",
    "elif season==9 or season==10 or season==11:\n",
    "    print('осень')"
   ]
  },
  {
   "cell_type": "code",
   "execution_count": null,
   "metadata": {
    "collapsed": true
   },
   "outputs": [],
   "source": []
  }
 ],
 "metadata": {
  "kernelspec": {
   "display_name": "Python 3",
   "language": "python",
   "name": "python3"
  },
  "language_info": {
   "codemirror_mode": {
    "name": "ipython",
    "version": 3
   },
   "file_extension": ".py",
   "mimetype": "text/x-python",
   "name": "python",
   "nbconvert_exporter": "python",
   "pygments_lexer": "ipython3",
   "version": "3.6.0"
  }
 },
 "nbformat": 4,
 "nbformat_minor": 2
}

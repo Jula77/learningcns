{
 "cells": [
  {
   "cell_type": "code",
   "execution_count": 10,
   "metadata": {
    "collapsed": false
   },
   "outputs": [
    {
     "name": "stdout",
     "output_type": "stream",
     "text": [
      "qwertyu\n",
      "{'q': 'w', 'e': 'r', 't': 'y'}\n"
     ]
    }
   ],
   "source": [
    "mystr = input ()\n",
    "mylist = list (mystr)\n",
    "i=0\n",
    "d1={}\n",
    "if (len (mylist) % 2) == 0:\n",
    "    while i < len (mylist):\n",
    "        d1.update({mylist[i]:mylist[i+1]})\n",
    "        i = i+2\n",
    "else:\n",
    "       while i < len (mylist)-1:\n",
    "        d1.update({mylist[i]:mylist[i+1]})\n",
    "        i = i+2 \n",
    "print (d1)"
   ]
  },
  {
   "cell_type": "code",
   "execution_count": null,
   "metadata": {
    "collapsed": true
   },
   "outputs": [],
   "source": []
  }
 ],
 "metadata": {
  "kernelspec": {
   "display_name": "Python 3",
   "language": "python",
   "name": "python3"
  },
  "language_info": {
   "codemirror_mode": {
    "name": "ipython",
    "version": 3
   },
   "file_extension": ".py",
   "mimetype": "text/x-python",
   "name": "python",
   "nbconvert_exporter": "python",
   "pygments_lexer": "ipython3",
   "version": "3.6.0"
  }
 },
 "nbformat": 4,
 "nbformat_minor": 2
}

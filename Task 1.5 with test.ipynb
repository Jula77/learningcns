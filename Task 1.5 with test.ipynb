{
 "cells": [
  {
   "cell_type": "code",
   "execution_count": 32,
   "metadata": {
    "collapsed": false
   },
   "outputs": [
    {
     "name": "stdout",
     "output_type": "stream",
     "text": [
      "Введите число: 8\n",
      "[1, 2, 3, 4, 4, 3, 2, 1]\n"
     ]
    }
   ],
   "source": [
    "n = int(input(\"Введите число: \"))\n",
    "i = 1\n",
    "mass = []\n",
    "j = int (n/2)\n",
    "if (n % 2) == 0:\n",
    "    while i<=n/2:\n",
    "        mass.append(i)\n",
    "        i+=1\n",
    "    while j>0:\n",
    "        mass.append(j)\n",
    "        j-=1\n",
    "else:\n",
    "    j = int (n/2)\n",
    "    while i<=n/2+1:\n",
    "        mass.append(i)\n",
    "        i+=1\n",
    "    while j>0:\n",
    "        mass.append(j)\n",
    "        j-=1\n",
    "print (mass)"
   ]
  },
  {
   "cell_type": "code",
   "execution_count": 33,
   "metadata": {
    "collapsed": false
   },
   "outputs": [
    {
     "name": "stdout",
     "output_type": "stream",
     "text": [
      "Ура!\n",
      "Ура!\n",
      "Ура!\n",
      "Ура!\n"
     ]
    }
   ],
   "source": [
    "k = 0\n",
    "l = len (mass)\n",
    "while k <= l-1:\n",
    "    a = mass [k]\n",
    "    b = mass [l-1]\n",
    "    if a == b:\n",
    "        print('Ура!')\n",
    "    else:\n",
    "        print(\"Error!\")\n",
    "        break\n",
    "    k+=1\n",
    "    l-=1"
   ]
  },
  {
   "cell_type": "code",
   "execution_count": null,
   "metadata": {
    "collapsed": true
   },
   "outputs": [],
   "source": []
  }
 ],
 "metadata": {
  "kernelspec": {
   "display_name": "Python 3",
   "language": "python",
   "name": "python3"
  },
  "language_info": {
   "codemirror_mode": {
    "name": "ipython",
    "version": 3
   },
   "file_extension": ".py",
   "mimetype": "text/x-python",
   "name": "python",
   "nbconvert_exporter": "python",
   "pygments_lexer": "ipython3",
   "version": "3.6.0"
  }
 },
 "nbformat": 4,
 "nbformat_minor": 2
}

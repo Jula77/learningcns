{
 "cells": [
  {
   "cell_type": "code",
   "execution_count": null,
   "metadata": {
    "collapsed": true
   },
   "outputs": [],
   "source": [
    "n = int(input(\"Введите число: \"))\n",
    "i = 1\n",
    "mass = []\n",
    "j = round (n/2)\n",
    "\n",
    "while i<=n/2:\n",
    "    mass.append(i)\n",
    "    i+=1\n",
    "while j>0:\n",
    "    mass.append(j)\n",
    "    j-=1\n",
    "\n",
    "print (mass)"
   ]
  }
 ],
 "metadata": {
  "kernelspec": {
   "display_name": "Python 3",
   "language": "python",
   "name": "python3"
  },
  "language_info": {
   "codemirror_mode": {
    "name": "ipython",
    "version": 3
   },
   "file_extension": ".py",
   "mimetype": "text/x-python",
   "name": "python",
   "nbconvert_exporter": "python",
   "pygments_lexer": "ipython3",
   "version": "3.6.0"
  }
 },
 "nbformat": 4,
 "nbformat_minor": 2
}
